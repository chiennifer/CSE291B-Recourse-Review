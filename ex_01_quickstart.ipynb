{
 "cells": [
  {
   "cell_type": "markdown",
   "metadata": {},
   "source": [
    "Hello! Thank you for checking out our tool.\n",
    "\n",
    "The purpose of this demo is demonstrate some of the basics. In doing so, we will generate a flipset for one individual. In doing so, we'll show:\n",
    "\n",
    "1. How to use the ActionSet interface to specify immutable variables and variables with custom ranges.\n",
    "2. How to use a model to align an ActionSet\n",
    "3. How to use the RecourseBuilder interface to find the feasibility of one person.\n",
    "\n",
    "We'll work using CPLEX. The problem is equivalent for CBC. To install either package, read [here](https://github.com/ustunb/actionable-recourse/blob/master/README.md)."
   ]
  },
  {
   "cell_type": "code",
   "execution_count": 1,
   "metadata": {},
   "outputs": [],
   "source": [
    "import os\n",
    "import numpy as np\n",
    "import pandas as pd\n",
    "from sklearn.linear_model import LogisticRegression\n",
    "from sklearn.model_selection import GridSearchCV\n",
    "\n",
    "# import sys\n",
    "# print(sys.path)\n",
    "# print()\n",
    "# print(sys.executable)\n",
    "\n",
    "import recourse\n",
    "from recourse.builder import RecourseBuilder\n",
    "from recourse.builder import ActionSet\n"
   ]
  },
  {
   "cell_type": "markdown",
   "metadata": {},
   "source": [
    "# Read in the data"
   ]
  },
  {
   "cell_type": "markdown",
   "metadata": {},
   "source": [
    "To start out, we need to read in and process a dataset. We'll read in the `german` credit reporting dataset and do some light processing. You can find more information about this dataset [here](https://archive.ics.uci.edu/ml/datasets/statlog+(german+credit+data)). A processed version of this dataset is included in our repository for the purposes of this demo.\n",
    "\n",
    "We convert categorical columns to binary where possible and drop other more complicated categorical columns. In the near future, we will be able to support auditing over these features as well."
   ]
  },
  {
   "cell_type": "code",
   "execution_count": 2,
   "metadata": {},
   "outputs": [
    {
     "name": "stdout",
     "output_type": "stream",
     "text": [
      "/Users/Jennifer/Desktop/CSE291B/actionable-recourse-git-master-repo/examples/paper/data/german_processed.csv\n",
      "/Users/Jennifer/Desktop/CSE291B/actionable-recourse-git-master-repo/examples\n"
     ]
    },
    {
     "data": {
      "text/plain": [
       "Index(['GoodCustomer', 'ForeignWorker', 'Single', 'Age', 'LoanDuration',\n",
       "       'LoanAmount', 'LoanRateAsPercentOfIncome', 'YearsAtCurrentHome',\n",
       "       'NumberOfOtherLoansAtBank', 'NumberOfLiableIndividuals', 'HasTelephone',\n",
       "       'CheckingAccountBalance_geq_0', 'CheckingAccountBalance_geq_200',\n",
       "       'SavingsAccountBalance_geq_100', 'SavingsAccountBalance_geq_500',\n",
       "       'MissedPayments', 'NoCurrentLoan', 'CriticalAccountOrLoansElsewhere',\n",
       "       'OtherLoansAtBank', 'HasCoapplicant', 'HasGuarantor', 'OwnsHouse',\n",
       "       'RentsHouse', 'Unemployed', 'YearsAtCurrentJob_lt_1',\n",
       "       'YearsAtCurrentJob_geq_4', 'JobClassIsSkilled', 'isMale'],\n",
       "      dtype='object')"
      ]
     },
     "execution_count": 2,
     "metadata": {},
     "output_type": "execute_result"
    }
   ],
   "source": [
    "# print(os.getcwd())\n",
    "\n",
    "# data_dir = \"../data/\"\n",
    "data_dir = os.getcwd()+\"/paper/data/\"\n",
    "data_name = 'german'\n",
    "data_file = os.path.join(data_dir, '%s_processed.csv' % data_name)\n",
    "print(data_file)\n",
    "print(os.getcwd())\n",
    "## load and process data\n",
    "german_df = pd.read_csv(data_file).reset_index(drop=True)\n",
    "german_df = (german_df\n",
    "             .assign(isMale=lambda df: (df['Gender']=='Male').astype(int))\n",
    "             .drop(['PurposeOfLoan', 'Gender', 'OtherLoansAtStore'], axis=1)\n",
    "            )\n",
    "# print()\n",
    "\n",
    "y = german_df['GoodCustomer']\n",
    "X = german_df.drop('GoodCustomer', axis=1)\n",
    "\n",
    "german_df.head()\n",
    "german_df.columns"
   ]
  },
  {
   "cell_type": "markdown",
   "metadata": {},
   "source": [
    "Now let's set up our training sets."
   ]
  },
  {
   "cell_type": "code",
   "execution_count": 3,
   "metadata": {},
   "outputs": [],
   "source": [
    "action_set = ActionSet(X = X)\n",
    "action_set['Age'].mutable = False\n",
    "action_set['Single'].mutable = False\n",
    "action_set['JobClassIsSkilled'].mutable = False\n",
    "action_set['ForeignWorker'].mutable = False\n",
    "action_set['OwnsHouse'].mutable = False\n",
    "action_set['RentsHouse'].mutable = False\n",
    "action_set['isMale'].mutable = False"
   ]
  },
  {
   "cell_type": "markdown",
   "metadata": {},
   "source": [
    "Ok, great, we've instantialized an `ActionSet` and determined some features that we'd like to call immutable. Let's check what we've got so far:"
   ]
  },
  {
   "cell_type": "code",
   "execution_count": 4,
   "metadata": {},
   "outputs": [
    {
     "data": {
      "text/plain": [
       "+---------------------------------+---------------+---------+------------+----------------+----------------+-----------+-----------+-----------+-------+---------+\n",
       "|                            name | variable type | mutable | actionable | step direction | flip direction | grid size | step type | step size |    lb |      ub |\n",
       "+---------------------------------+---------------+---------+------------+----------------+----------------+-----------+-----------+-----------+-------+---------+\n",
       "|                   ForeignWorker | <class 'int'> |   False |      False |              0 |            nan |         2 |  relative |      0.01 |   0.0 |     1.0 |\n",
       "|                          Single | <class 'int'> |   False |      False |              0 |            nan |         2 |  relative |      0.01 |   0.0 |     1.0 |\n",
       "|                             Age | <class 'int'> |   False |      False |              0 |            nan |        49 |  relative |      0.01 |  20.0 |    68.0 |\n",
       "|                    LoanDuration | <class 'int'> |    True |       True |              0 |            nan |        55 |  relative |      0.01 |   6.0 |    60.0 |\n",
       "|                      LoanAmount | <class 'int'> |    True |       True |              0 |            nan |       101 |  relative |      0.01 | 425.0 | 14181.0 |\n",
       "|       LoanRateAsPercentOfIncome | <class 'int'> |    True |       True |              0 |            nan |         4 |  relative |      0.01 |   1.0 |     4.0 |\n",
       "|              YearsAtCurrentHome | <class 'int'> |    True |       True |              0 |            nan |         4 |  relative |      0.01 |   1.0 |     4.0 |\n",
       "|        NumberOfOtherLoansAtBank | <class 'int'> |    True |       True |              0 |            nan |         3 |  relative |      0.01 |   1.0 |     3.0 |\n",
       "|       NumberOfLiableIndividuals | <class 'int'> |    True |       True |              0 |            nan |         2 |  relative |      0.01 |   1.0 |     2.0 |\n",
       "|                    HasTelephone | <class 'int'> |    True |       True |              0 |            nan |         2 |  relative |      0.01 |   0.0 |     1.0 |\n",
       "|    CheckingAccountBalance_geq_0 | <class 'int'> |    True |       True |              0 |            nan |         2 |  relative |      0.01 |   0.0 |     1.0 |\n",
       "|  CheckingAccountBalance_geq_200 | <class 'int'> |    True |       True |              0 |            nan |         2 |  relative |      0.01 |   0.0 |     1.0 |\n",
       "|   SavingsAccountBalance_geq_100 | <class 'int'> |    True |       True |              0 |            nan |         2 |  relative |      0.01 |   0.0 |     1.0 |\n",
       "|   SavingsAccountBalance_geq_500 | <class 'int'> |    True |       True |              0 |            nan |         2 |  relative |      0.01 |   0.0 |     1.0 |\n",
       "|                  MissedPayments | <class 'int'> |    True |       True |              0 |            nan |         2 |  relative |      0.01 |   0.0 |     1.0 |\n",
       "|                   NoCurrentLoan | <class 'int'> |    True |       True |              0 |            nan |         2 |  relative |      0.01 |   0.0 |     1.0 |\n",
       "| CriticalAccountOrLoansElsewhere | <class 'int'> |    True |       True |              0 |            nan |         2 |  relative |      0.01 |   0.0 |     1.0 |\n",
       "|                OtherLoansAtBank | <class 'int'> |    True |       True |              0 |            nan |         2 |  relative |      0.01 |   0.0 |     1.0 |\n",
       "|                  HasCoapplicant | <class 'int'> |    True |       True |              0 |            nan |         2 |  relative |      0.01 |   0.0 |     1.0 |\n",
       "|                    HasGuarantor | <class 'int'> |    True |       True |              0 |            nan |         2 |  relative |      0.01 |   0.0 |     1.0 |\n",
       "|                       OwnsHouse | <class 'int'> |   False |      False |              0 |            nan |         2 |  relative |      0.01 |   0.0 |     1.0 |\n",
       "|                      RentsHouse | <class 'int'> |   False |      False |              0 |            nan |         2 |  relative |      0.01 |   0.0 |     1.0 |\n",
       "|                      Unemployed | <class 'int'> |    True |       True |              0 |            nan |         2 |  relative |      0.01 |   0.0 |     1.0 |\n",
       "|          YearsAtCurrentJob_lt_1 | <class 'int'> |    True |       True |              0 |            nan |         2 |  relative |      0.01 |   0.0 |     1.0 |\n",
       "|         YearsAtCurrentJob_geq_4 | <class 'int'> |    True |       True |              0 |            nan |         2 |  relative |      0.01 |   0.0 |     1.0 |\n",
       "|               JobClassIsSkilled | <class 'int'> |   False |      False |              0 |            nan |         2 |  relative |      0.01 |   0.0 |     1.0 |\n",
       "|                          isMale | <class 'int'> |   False |      False |              0 |            nan |         2 |  relative |      0.01 |   0.0 |     1.0 |\n",
       "+---------------------------------+---------------+---------+------------+----------------+----------------+-----------+-----------+-----------+-------+---------+"
      ]
     },
     "execution_count": 4,
     "metadata": {},
     "output_type": "execute_result"
    }
   ],
   "source": [
    "action_set"
   ]
  },
  {
   "cell_type": "markdown",
   "metadata": {},
   "source": [
    "There's a lot of stuff baked in here. Let's walk through some of it.\n",
    "\n",
    "* You can see that every feature has a `lb` and an `ub`. These specify the lower and upper bounds for that feature, which we derived by looking at the 100th percentile of each feature.\n",
    "* All the features have defaulted to `step_type=relative` and `step_size=.01`. This means that when we consider potential actions, we take steps of size $1%$ through the feasible space. So, for example, if you observe in the dataset that `LoanAmount` ranges from $\\$100$ to $\\$200$, your actions would be: $\\$100, \\$101, \\$102,...\\$200$. Other `step_types` are: `absolute` and `percentile`. `Absolute` means you can specify a positive real, (any positive real!) and we'll step at that amount. `Percentile` means we'll consider one action to be `step_size` percentile shift.\n",
    "* This leads us naturally into the `action_grid`. This is a grid we set up based on `step_size` and `step_type`. We've already setup grids for these features. These will discretize continuous variables for you. Check out our paper to see how this is optimal and equivalent to treating these features as continuous. Plus, it makes your wait-time a lot slower.\n",
    "\n",
    "See how much time and processing you save just by passing in the dataset? Told you it was worth it."
   ]
  },
  {
   "cell_type": "markdown",
   "metadata": {},
   "source": [
    "But ok, in the real world you might want change. GObama. Let's see how to do that. We'll take `LoanDuration`. These are what some of the attributes look like:"
   ]
  },
  {
   "cell_type": "code",
   "execution_count": 5,
   "metadata": {},
   "outputs": [
    {
     "data": {
      "text/plain": [
       "'LoanDuration': (6.0, 60.0)"
      ]
     },
     "execution_count": 5,
     "metadata": {},
     "output_type": "execute_result"
    }
   ],
   "source": [
    "action_set['LoanDuration']\n",
    "## default str shows (lb, ub)"
   ]
  },
  {
   "cell_type": "code",
   "execution_count": 6,
   "metadata": {},
   "outputs": [
    {
     "data": {
      "text/plain": [
       "0.01"
      ]
     },
     "execution_count": 6,
     "metadata": {},
     "output_type": "execute_result"
    }
   ],
   "source": [
    "action_set['LoanDuration'].step_size"
   ]
  },
  {
   "cell_type": "markdown",
   "metadata": {},
   "source": [
    "To change `step_size`, we can simply set another value. UCI tells us that this is measured in months. Let's say we only want to consider 6-month intervals."
   ]
  },
  {
   "cell_type": "code",
   "execution_count": 7,
   "metadata": {},
   "outputs": [
    {
     "ename": "AssertionError",
     "evalue": "",
     "output_type": "error",
     "traceback": [
      "\u001b[0;31m---------------------------------------------------------------------------\u001b[0m",
      "\u001b[0;31mAssertionError\u001b[0m                            Traceback (most recent call last)",
      "\u001b[0;32m<ipython-input-7-79eaa818428c>\u001b[0m in \u001b[0;36m<module>\u001b[0;34m\u001b[0m\n\u001b[0;32m----> 1\u001b[0;31m \u001b[0maction_set\u001b[0m\u001b[0;34m[\u001b[0m\u001b[0;34m'LoanDuration'\u001b[0m\u001b[0;34m]\u001b[0m\u001b[0;34m.\u001b[0m\u001b[0mstep_size\u001b[0m \u001b[0;34m=\u001b[0m \u001b[0;36m6\u001b[0m\u001b[0;34m\u001b[0m\u001b[0;34m\u001b[0m\u001b[0m\n\u001b[0m",
      "\u001b[0;32m~/.local/lib/python3.7/site-packages/Recourse-0.1.1-py3.7.egg/recourse/action_set.py\u001b[0m in \u001b[0;36mstep_size\u001b[0;34m(self, s)\u001b[0m\n\u001b[1;32m    382\u001b[0m         \u001b[0;32massert\u001b[0m \u001b[0mnp\u001b[0m\u001b[0;34m.\u001b[0m\u001b[0mgreater\u001b[0m\u001b[0;34m(\u001b[0m\u001b[0ms\u001b[0m\u001b[0;34m,\u001b[0m \u001b[0;36m0.0\u001b[0m\u001b[0;34m)\u001b[0m\u001b[0;34m\u001b[0m\u001b[0;34m\u001b[0m\u001b[0m\n\u001b[1;32m    383\u001b[0m         \u001b[0;32mif\u001b[0m \u001b[0mself\u001b[0m\u001b[0;34m.\u001b[0m\u001b[0m_step_type\u001b[0m \u001b[0;34m==\u001b[0m \u001b[0;34m'relative'\u001b[0m\u001b[0;34m:\u001b[0m\u001b[0;34m\u001b[0m\u001b[0;34m\u001b[0m\u001b[0m\n\u001b[0;32m--> 384\u001b[0;31m             \u001b[0;32massert\u001b[0m \u001b[0mnp\u001b[0m\u001b[0;34m.\u001b[0m\u001b[0mless_equal\u001b[0m\u001b[0;34m(\u001b[0m\u001b[0ms\u001b[0m\u001b[0;34m,\u001b[0m \u001b[0;36m1.0\u001b[0m\u001b[0;34m)\u001b[0m\u001b[0;34m\u001b[0m\u001b[0;34m\u001b[0m\u001b[0m\n\u001b[0m\u001b[1;32m    385\u001b[0m         \u001b[0mself\u001b[0m\u001b[0;34m.\u001b[0m\u001b[0m_step_size\u001b[0m \u001b[0;34m=\u001b[0m \u001b[0mfloat\u001b[0m\u001b[0;34m(\u001b[0m\u001b[0ms\u001b[0m\u001b[0;34m)\u001b[0m\u001b[0;34m\u001b[0m\u001b[0;34m\u001b[0m\u001b[0m\n\u001b[1;32m    386\u001b[0m \u001b[0;34m\u001b[0m\u001b[0m\n",
      "\u001b[0;31mAssertionError\u001b[0m: "
     ]
    }
   ],
   "source": [
    "action_set['LoanDuration'].step_size = 6"
   ]
  },
  {
   "cell_type": "markdown",
   "metadata": {},
   "source": [
    "Whoops, we got an assertion error. Let's make sure to change the `step_type` first."
   ]
  },
  {
   "cell_type": "code",
   "execution_count": 8,
   "metadata": {},
   "outputs": [],
   "source": [
    "action_set['LoanDuration'].step_type =\"absolute\"\n",
    "action_set['LoanDuration'].step_size = 6"
   ]
  },
  {
   "cell_type": "markdown",
   "metadata": {},
   "source": [
    "Great. Now let's look at the bounds:"
   ]
  },
  {
   "cell_type": "code",
   "execution_count": 9,
   "metadata": {},
   "outputs": [
    {
     "data": {
      "text/plain": [
       "'LoanDuration': (6.0, 60.0)"
      ]
     },
     "execution_count": 9,
     "metadata": {},
     "output_type": "execute_result"
    }
   ],
   "source": [
    "action_set['LoanDuration']"
   ]
  },
  {
   "cell_type": "markdown",
   "metadata": {},
   "source": [
    "To set bounds:"
   ]
  },
  {
   "cell_type": "code",
   "execution_count": 10,
   "metadata": {},
   "outputs": [],
   "source": [
    "action_set['LoanDuration'].bounds = (1, 100)"
   ]
  },
  {
   "cell_type": "code",
   "execution_count": 11,
   "metadata": {},
   "outputs": [
    {
     "data": {
      "text/plain": [
       "'LoanDuration': (1.0, 100.0)"
      ]
     },
     "execution_count": 11,
     "metadata": {},
     "output_type": "execute_result"
    }
   ],
   "source": [
    "action_set['LoanDuration']"
   ]
  },
  {
   "cell_type": "markdown",
   "metadata": {},
   "source": [
    "# Train model"
   ]
  },
  {
   "cell_type": "markdown",
   "metadata": {},
   "source": [
    "Ok great, now let's get into the meat of it. Let's train up a model as see what recourse exists."
   ]
  },
  {
   "cell_type": "code",
   "execution_count": 12,
   "metadata": {},
   "outputs": [],
   "source": [
    "## grid search\n",
    "clf = LogisticRegression(max_iter=1000, solver='lbfgs')\n",
    "\n",
    "## Exhaustive search over specified parameter values for an estimator.\n",
    "## C is a inverse of regularization strength, smaller values == stronger regularization\n",
    "## cv = cross validation generator, optional. default is 5-fold.\n",
    "## scoring https://scikit-learn.org/stable/modules/model_evaluation.html\n",
    "## Compute Area Under the Receiver Operating Characteristic Curve (ROC AUC) from prediction scores.\n",
    "grid = GridSearchCV(\n",
    "  clf, param_grid={'C': np.logspace(-4, 3)},\n",
    "  cv=10,\n",
    "  scoring='roc_auc',\n",
    "  return_train_score=True\n",
    ")\n",
    "grid.fit(X, y)\n",
    "clf = grid.best_estimator_"
   ]
  },
  {
   "cell_type": "code",
   "execution_count": 13,
   "metadata": {},
   "outputs": [],
   "source": [
    "coefficients = clf.coef_[0]\n",
    "intercept = clf.intercept_[0]"
   ]
  },
  {
   "cell_type": "markdown",
   "metadata": {},
   "source": [
    "Ok cool, now that we have our model, we can do some exciting stuff. First things first, we need to align our `ActionSet`. What this means is that our `ActionSet` didn't know yet which directions were the _right_ directions to step in. The coefficients will tell it that."
   ]
  },
  {
   "cell_type": "code",
   "execution_count": 14,
   "metadata": {},
   "outputs": [],
   "source": [
    "action_set.align(coefficients=coefficients)"
   ]
  },
  {
   "cell_type": "markdown",
   "metadata": {},
   "source": [
    "Hold on, let's do a quick check. Sometimes, coefficients can be misleading for a host of reasons:\n",
    "* A confounder can switch the direction.\n",
    "* A collinear feature could negative or also flip the direction."
   ]
  },
  {
   "cell_type": "code",
   "execution_count": 15,
   "metadata": {},
   "outputs": [
    {
     "data": {
      "text/html": [
       "<div>\n",
       "<style scoped>\n",
       "    .dataframe tbody tr th:only-of-type {\n",
       "        vertical-align: middle;\n",
       "    }\n",
       "\n",
       "    .dataframe tbody tr th {\n",
       "        vertical-align: top;\n",
       "    }\n",
       "\n",
       "    .dataframe thead th {\n",
       "        text-align: right;\n",
       "    }\n",
       "</style>\n",
       "<table border=\"1\" class=\"dataframe\">\n",
       "  <thead>\n",
       "    <tr style=\"text-align: right;\">\n",
       "      <th></th>\n",
       "      <th>Coefficients</th>\n",
       "    </tr>\n",
       "  </thead>\n",
       "  <tbody>\n",
       "    <tr>\n",
       "      <th>ForeignWorker</th>\n",
       "      <td>0.255958</td>\n",
       "    </tr>\n",
       "    <tr>\n",
       "      <th>Single</th>\n",
       "      <td>0.193894</td>\n",
       "    </tr>\n",
       "    <tr>\n",
       "      <th>Age</th>\n",
       "      <td>0.015281</td>\n",
       "    </tr>\n",
       "    <tr>\n",
       "      <th>LoanDuration</th>\n",
       "      <td>-0.027462</td>\n",
       "    </tr>\n",
       "    <tr>\n",
       "      <th>LoanAmount</th>\n",
       "      <td>-0.000064</td>\n",
       "    </tr>\n",
       "    <tr>\n",
       "      <th>LoanRateAsPercentOfIncome</th>\n",
       "      <td>-0.178015</td>\n",
       "    </tr>\n",
       "    <tr>\n",
       "      <th>YearsAtCurrentHome</th>\n",
       "      <td>-0.025053</td>\n",
       "    </tr>\n",
       "    <tr>\n",
       "      <th>NumberOfOtherLoansAtBank</th>\n",
       "      <td>-0.137734</td>\n",
       "    </tr>\n",
       "    <tr>\n",
       "      <th>NumberOfLiableIndividuals</th>\n",
       "      <td>0.016078</td>\n",
       "    </tr>\n",
       "    <tr>\n",
       "      <th>HasTelephone</th>\n",
       "      <td>0.396862</td>\n",
       "    </tr>\n",
       "    <tr>\n",
       "      <th>CheckingAccountBalance_geq_0</th>\n",
       "      <td>-0.317264</td>\n",
       "    </tr>\n",
       "    <tr>\n",
       "      <th>CheckingAccountBalance_geq_200</th>\n",
       "      <td>0.198734</td>\n",
       "    </tr>\n",
       "    <tr>\n",
       "      <th>SavingsAccountBalance_geq_100</th>\n",
       "      <td>0.427131</td>\n",
       "    </tr>\n",
       "    <tr>\n",
       "      <th>SavingsAccountBalance_geq_500</th>\n",
       "      <td>0.476348</td>\n",
       "    </tr>\n",
       "    <tr>\n",
       "      <th>MissedPayments</th>\n",
       "      <td>0.241797</td>\n",
       "    </tr>\n",
       "    <tr>\n",
       "      <th>NoCurrentLoan</th>\n",
       "      <td>-0.493591</td>\n",
       "    </tr>\n",
       "    <tr>\n",
       "      <th>CriticalAccountOrLoansElsewhere</th>\n",
       "      <td>0.761893</td>\n",
       "    </tr>\n",
       "    <tr>\n",
       "      <th>OtherLoansAtBank</th>\n",
       "      <td>-0.568581</td>\n",
       "    </tr>\n",
       "    <tr>\n",
       "      <th>HasCoapplicant</th>\n",
       "      <td>-0.197358</td>\n",
       "    </tr>\n",
       "    <tr>\n",
       "      <th>HasGuarantor</th>\n",
       "      <td>0.286971</td>\n",
       "    </tr>\n",
       "    <tr>\n",
       "      <th>OwnsHouse</th>\n",
       "      <td>0.703423</td>\n",
       "    </tr>\n",
       "    <tr>\n",
       "      <th>RentsHouse</th>\n",
       "      <td>0.034878</td>\n",
       "    </tr>\n",
       "    <tr>\n",
       "      <th>Unemployed</th>\n",
       "      <td>-0.151710</td>\n",
       "    </tr>\n",
       "    <tr>\n",
       "      <th>YearsAtCurrentJob_lt_1</th>\n",
       "      <td>-0.192915</td>\n",
       "    </tr>\n",
       "    <tr>\n",
       "      <th>YearsAtCurrentJob_geq_4</th>\n",
       "      <td>0.416407</td>\n",
       "    </tr>\n",
       "    <tr>\n",
       "      <th>JobClassIsSkilled</th>\n",
       "      <td>0.266512</td>\n",
       "    </tr>\n",
       "    <tr>\n",
       "      <th>isMale</th>\n",
       "      <td>0.140564</td>\n",
       "    </tr>\n",
       "  </tbody>\n",
       "</table>\n",
       "</div>"
      ],
      "text/plain": [
       "                                 Coefficients\n",
       "ForeignWorker                        0.255958\n",
       "Single                               0.193894\n",
       "Age                                  0.015281\n",
       "LoanDuration                        -0.027462\n",
       "LoanAmount                          -0.000064\n",
       "LoanRateAsPercentOfIncome           -0.178015\n",
       "YearsAtCurrentHome                  -0.025053\n",
       "NumberOfOtherLoansAtBank            -0.137734\n",
       "NumberOfLiableIndividuals            0.016078\n",
       "HasTelephone                         0.396862\n",
       "CheckingAccountBalance_geq_0        -0.317264\n",
       "CheckingAccountBalance_geq_200       0.198734\n",
       "SavingsAccountBalance_geq_100        0.427131\n",
       "SavingsAccountBalance_geq_500        0.476348\n",
       "MissedPayments                       0.241797\n",
       "NoCurrentLoan                       -0.493591\n",
       "CriticalAccountOrLoansElsewhere      0.761893\n",
       "OtherLoansAtBank                    -0.568581\n",
       "HasCoapplicant                      -0.197358\n",
       "HasGuarantor                         0.286971\n",
       "OwnsHouse                            0.703423\n",
       "RentsHouse                           0.034878\n",
       "Unemployed                          -0.151710\n",
       "YearsAtCurrentJob_lt_1              -0.192915\n",
       "YearsAtCurrentJob_geq_4              0.416407\n",
       "JobClassIsSkilled                    0.266512\n",
       "isMale                               0.140564"
      ]
     },
     "execution_count": 15,
     "metadata": {},
     "output_type": "execute_result"
    }
   ],
   "source": [
    "pd.Series(coefficients, index=X.columns).to_frame('Coefficients')"
   ]
  },
  {
   "cell_type": "markdown",
   "metadata": {},
   "source": [
    "Hmmm that's odd. `CriticalAccountOrLoansElsewhere` is a positive coefficient, meaning that opening more accounts elsewhere will _help_ someone flip their prediction. It very well might be predictive within the confines of this model, but we're looking for more than predictive power, here. We're not quite looking for causality, but still, we certainly don't want to actively encourage someone to do something that we know a-priori will be bad for them.\n",
    "\n",
    "When we notice weird stuff like that, we can easily hop into the interfact and change it."
   ]
  },
  {
   "cell_type": "code",
   "execution_count": 16,
   "metadata": {},
   "outputs": [],
   "source": [
    "action_set['CriticalAccountOrLoansElsewhere'].step_direction = -1\n",
    "action_set['CheckingAccountBalance_geq_0'].step_direction = 1"
   ]
  },
  {
   "cell_type": "markdown",
   "metadata": {},
   "source": [
    "# Generate Recourse"
   ]
  },
  {
   "cell_type": "markdown",
   "metadata": {},
   "source": [
    "First, let's score everyone using our model. Now, let's say that we will give loans to anyone with a greater than a $80\\%$ chance of paying it back"
   ]
  },
  {
   "cell_type": "code",
   "execution_count": 17,
   "metadata": {},
   "outputs": [],
   "source": [
    "scores = pd.Series(clf.predict_proba(X)[:, 1])"
   ]
  },
  {
   "cell_type": "code",
   "execution_count": 18,
   "metadata": {},
   "outputs": [
    {
     "data": {
      "text/plain": [
       "1    0.352368\n",
       "3    0.599149\n",
       "4    0.487479\n",
       "5    0.441753\n",
       "7    0.479675\n",
       "dtype: float64"
      ]
     },
     "execution_count": 18,
     "metadata": {},
     "output_type": "execute_result"
    }
   ],
   "source": [
    "scores.loc[lambda s: s<.8].head()"
   ]
  },
  {
   "cell_type": "code",
   "execution_count": 19,
   "metadata": {},
   "outputs": [
    {
     "data": {
      "text/plain": [
       "(657,)"
      ]
     },
     "execution_count": 19,
     "metadata": {},
     "output_type": "execute_result"
    }
   ],
   "source": [
    "scores.loc[lambda s: s<.8].shape"
   ]
  },
  {
   "cell_type": "markdown",
   "metadata": {},
   "source": [
    "That's quite a few people in our dataset that won't be able to qualify for a loan. Let's see what one of them can do."
   ]
  },
  {
   "cell_type": "code",
   "execution_count": 20,
   "metadata": {},
   "outputs": [],
   "source": [
    "denied_individuals = scores.loc[lambda s: s < .8].index"
   ]
  },
  {
   "cell_type": "code",
   "execution_count": 21,
   "metadata": {},
   "outputs": [],
   "source": [
    "x = X.values[denied_individuals[0]]\n",
    "\n",
    "p = .8\n",
    "rb = RecourseBuilder(\n",
    "      optimizer=\"cplex\",\n",
    "      coefficients=coefficients,\n",
    "      intercept=intercept- (np.log(p / (1. - p))),\n",
    "      action_set=action_set,\n",
    "      x=x\n",
    ")"
   ]
  },
  {
   "cell_type": "code",
   "execution_count": 22,
   "metadata": {},
   "outputs": [
    {
     "ename": "SyntaxError",
     "evalue": "invalid syntax (<ipython-input-22-97768267e673>, line 1)",
     "output_type": "error",
     "traceback": [
      "\u001b[0;36m  File \u001b[0;32m\"<ipython-input-22-97768267e673>\"\u001b[0;36m, line \u001b[0;32m1\u001b[0m\n\u001b[0;31m    You can switch optimizers if you don't have CPLEX by setting `optimizer=\"cbc\"`.\u001b[0m\n\u001b[0m          ^\u001b[0m\n\u001b[0;31mSyntaxError\u001b[0m\u001b[0;31m:\u001b[0m invalid syntax\n"
     ]
    }
   ],
   "source": [
    "You can switch optimizers if you don't have CPLEX by setting `optimizer=\"cbc\"`. \n",
    "\n",
    "A quick note: Our decision boundary is by default 0. We shift this by tweaking the intercept. Since we used Logistic Regression, we use the trick above to do that. In future iterations, we will provide a more elegant way of doing this."
   ]
  },
  {
   "cell_type": "code",
   "execution_count": null,
   "metadata": {},
   "outputs": [],
   "source": [
    "output_1 = rb.fit()\n",
    "output_1"
   ]
  },
  {
   "cell_type": "markdown",
   "metadata": {},
   "source": [
    "Ok, great, we have a solution! This individual has recourse. The total cost of all the actions needed to flip their prediction is the first thing of interest to us. It costs this person $.21$, meaning that the sum of percentile shifts across this person's features is $.21$. That's quite a lot. Imagine having to shift that much relative to a population? Let's check out what this means in terms of actions:"
   ]
  },
  {
   "cell_type": "code",
   "execution_count": null,
   "metadata": {},
   "outputs": [],
   "source": [
    "pd.Series(output_1['actions'], index=X.columns).to_frame('Actions')"
   ]
  },
  {
   "cell_type": "markdown",
   "metadata": {},
   "source": [
    "Ok, so let's read this. \n",
    "\n",
    "* `SavingsAccountBalance_geq_100`$=1$, for example. This was a binary feature, so it can only be $1$. This also means that we're enouraging this person to increase their savings. \n",
    "* `LoanDuration`$=20$. This, if we recall, was the number of months of loan. This means we're encouraging this person to reapply but specify that their loan repayment period is 20 months shorter.\n",
    "\n",
    "Let's check if these two actions make sense in the context of this person:"
   ]
  },
  {
   "cell_type": "code",
   "execution_count": null,
   "metadata": {},
   "outputs": [],
   "source": [
    "X.loc[denied_individuals[0]].to_frame(\"Original Features\")"
   ]
  },
  {
   "cell_type": "markdown",
   "metadata": {},
   "source": [
    "Ok, this person originally applied with no savings and with a 4-year repayment period. So asking them to get savings and decrease their loan repayment period by $20$ months make sense as actions.\n",
    "\n",
    "(Let's leave aside the question of mutually exclusive features (eg. `SavingsAccountBalance_geq_100` $=0$, `SavingsAccountBalance_geq_500`$=1$). We'll get back to that in later releases.)"
   ]
  },
  {
   "cell_type": "markdown",
   "metadata": {},
   "source": [
    "Let's close by noting some things:\n",
    "\n",
    "* Immutable features are __not__ changed. That's good. That's recourse.\n",
    "* The changes make sense, at least directionally. We'd encourage this person to get a gaurantor, to decrease their loan amount, and to decrease their loan period, among other changes.\n",
    "\n",
    "Yes, these might be hard for someone. They might have other reasons for immutability that we're not considering. Maybe they _need_ that amount and cannot change. Ok, let's express that:"
   ]
  },
  {
   "cell_type": "code",
   "execution_count": null,
   "metadata": {},
   "outputs": [],
   "source": [
    "action_set['LoanAmount'].mutable=False"
   ]
  },
  {
   "cell_type": "code",
   "execution_count": null,
   "metadata": {},
   "outputs": [],
   "source": [
    "x = X.values[denied_individuals[0]]\n",
    "\n",
    "p = .8\n",
    "rb = RecourseBuilder(\n",
    "      optimizer=\"cplex\",\n",
    "      coefficients=coefficients,\n",
    "      intercept=intercept- (np.log(p / (1. - p))),\n",
    "      action_set=action_set,\n",
    "      x=x\n",
    ")"
   ]
  },
  {
   "cell_type": "code",
   "execution_count": null,
   "metadata": {},
   "outputs": [],
   "source": [
    "output_2 = rb.fit()\n",
    "output_2"
   ]
  },
  {
   "cell_type": "markdown",
   "metadata": {},
   "source": [
    "Ok, so their total cost actually didn't change, which is nice. Let's take a look at their new action set:"
   ]
  },
  {
   "cell_type": "code",
   "execution_count": null,
   "metadata": {},
   "outputs": [],
   "source": [
    "pd.Series(output_2['actions'], index=X.columns).to_frame(\"New Actions\")"
   ]
  },
  {
   "cell_type": "markdown",
   "metadata": {},
   "source": [
    "Ok, by decreasing their repayment period by a bit more and changing some other features, this person can still ask for the same amount. That's good.\n",
    "\n",
    "The magical thing about both of these action sets is that this person, if they do this, _will_ qualify for a loan. Let's check that:"
   ]
  },
  {
   "cell_type": "code",
   "execution_count": null,
   "metadata": {},
   "outputs": [],
   "source": [
    "clf.predict_proba([X.loc[denied_individuals[0]] + pd.Series(output_1['actions'], index=X.columns)])[:, 1]"
   ]
  },
  {
   "cell_type": "code",
   "execution_count": null,
   "metadata": {},
   "outputs": [],
   "source": [
    "clf.predict_proba([X.loc[denied_individuals[0]] + pd.Series(output_2['actions'], index=X.columns)])[:, 1]"
   ]
  },
  {
   "cell_type": "markdown",
   "metadata": {},
   "source": [
    "And there we have it. By making these tweaks, this person has two ways to get over the $.8$ threshold that we've set. This period can now get approved under this model."
   ]
  },
  {
   "cell_type": "code",
   "execution_count": null,
   "metadata": {},
   "outputs": [],
   "source": []
  }
 ],
 "metadata": {
  "kernelspec": {
   "display_name": "Python 3",
   "language": "python",
   "name": "python3"
  },
  "language_info": {
   "codemirror_mode": {
    "name": "ipython",
    "version": 3
   },
   "file_extension": ".py",
   "mimetype": "text/x-python",
   "name": "python",
   "nbconvert_exporter": "python",
   "pygments_lexer": "ipython3",
   "version": "3.7.4"
  }
 },
 "nbformat": 4,
 "nbformat_minor": 2
}
