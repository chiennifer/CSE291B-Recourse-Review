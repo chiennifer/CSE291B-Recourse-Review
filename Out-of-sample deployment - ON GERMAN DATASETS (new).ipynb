{
 "cells": [
  {
   "cell_type": "code",
   "execution_count": 1,
   "metadata": {},
   "outputs": [
    {
     "name": "stdout",
     "output_type": "stream",
     "text": [
      "/Users/Jennifer/Desktop/CSE291B/actionable-recourse-git-master-repo/examples\n"
     ]
    }
   ],
   "source": [
    "import os\n",
    "print(os.getcwd())\n",
    "\n",
    "# data_dir = os.getcwd()+\"/paper/\"\n",
    "# print(data_dir)\n",
    "\n",
    "os.chdir(\"/Users/Jennifer/Desktop/CSE291B/actionable-recourse-git-master-repo\")\n",
    "\n",
    "# from initialize import *\n",
    "import itertools\n",
    "import matplotlib as mpl\n",
    "import matplotlib.pyplot as plt\n",
    "import seaborn as sns\n",
    "from sklearn.linear_model import LogisticRegressionCV\n",
    "from sklearn.model_selection import train_test_split, KFold\n",
    "from sklearn.metrics import roc_auc_score\n",
    "from sklearn.linear_model import LogisticRegression\n",
    "\n",
    "\n",
    "from examples.paper.initialize import *\n",
    "from sklearn.linear_model import LogisticRegressionCV, LogisticRegression\n",
    "from sklearn.model_selection import KFold, GridSearchCV\n",
    "from sklearn.metrics import roc_auc_score"
   ]
  },
  {
   "cell_type": "markdown",
   "metadata": {},
   "source": [
    "## read in the data"
   ]
  },
  {
   "cell_type": "code",
   "execution_count": 2,
   "metadata": {},
   "outputs": [],
   "source": [
    "data_name = 'german'\n",
    "data_file = data_dir / ('%s_processed.csv' % data_name)\n",
    "output_dir = results_dir /  data_name\n",
    "\n",
    "## load and process data\n",
    "data_df = pd.read_csv(data_file).reset_index(drop=True)\n",
    "# german_df = german_df.assign(isMale=lambda df: (df['Gender']=='Male').astype(int))#.drop(['PurposeOfLoan', 'Gender', 'OtherLoansAtStore'], axis=1)\n",
    "y = data_df['GoodCustomer']\n",
    "X = (data_df.drop('GoodCustomer', axis=1)\n",
    "#              .assign(isMale=lambda df: (df['Gender']=='Male').astype(int))\n",
    "             .drop(['PurposeOfLoan', 'Gender', 'OtherLoansAtStore'], axis=1))"
   ]
  },
  {
   "cell_type": "code",
   "execution_count": 3,
   "metadata": {},
   "outputs": [
    {
     "name": "stdout",
     "output_type": "stream",
     "text": [
      "(1000, 26)\n",
      "ForeignWorker                      int64\n",
      "Single                             int64\n",
      "Age                                int64\n",
      "LoanDuration                       int64\n",
      "LoanAmount                         int64\n",
      "LoanRateAsPercentOfIncome          int64\n",
      "YearsAtCurrentHome                 int64\n",
      "NumberOfOtherLoansAtBank           int64\n",
      "NumberOfLiableIndividuals          int64\n",
      "HasTelephone                       int64\n",
      "CheckingAccountBalance_geq_0       int64\n",
      "CheckingAccountBalance_geq_200     int64\n",
      "SavingsAccountBalance_geq_100      int64\n",
      "SavingsAccountBalance_geq_500      int64\n",
      "MissedPayments                     int64\n",
      "NoCurrentLoan                      int64\n",
      "CriticalAccountOrLoansElsewhere    int64\n",
      "OtherLoansAtBank                   int64\n",
      "HasCoapplicant                     int64\n",
      "HasGuarantor                       int64\n",
      "OwnsHouse                          int64\n",
      "RentsHouse                         int64\n",
      "Unemployed                         int64\n",
      "YearsAtCurrentJob_lt_1             int64\n",
      "YearsAtCurrentJob_geq_4            int64\n",
      "JobClassIsSkilled                  int64\n",
      "dtype: object\n"
     ]
    },
    {
     "data": {
      "text/html": [
       "<div>\n",
       "<style scoped>\n",
       "    .dataframe tbody tr th:only-of-type {\n",
       "        vertical-align: middle;\n",
       "    }\n",
       "\n",
       "    .dataframe tbody tr th {\n",
       "        vertical-align: top;\n",
       "    }\n",
       "\n",
       "    .dataframe thead th {\n",
       "        text-align: right;\n",
       "    }\n",
       "</style>\n",
       "<table border=\"1\" class=\"dataframe\">\n",
       "  <thead>\n",
       "    <tr style=\"text-align: right;\">\n",
       "      <th></th>\n",
       "      <th>ForeignWorker</th>\n",
       "      <th>Single</th>\n",
       "      <th>Age</th>\n",
       "      <th>LoanDuration</th>\n",
       "      <th>LoanAmount</th>\n",
       "      <th>...</th>\n",
       "      <th>RentsHouse</th>\n",
       "      <th>Unemployed</th>\n",
       "      <th>YearsAtCurrentJob_lt_1</th>\n",
       "      <th>YearsAtCurrentJob_geq_4</th>\n",
       "      <th>JobClassIsSkilled</th>\n",
       "    </tr>\n",
       "  </thead>\n",
       "  <tbody>\n",
       "    <tr>\n",
       "      <th>0</th>\n",
       "      <td>0</td>\n",
       "      <td>1</td>\n",
       "      <td>67</td>\n",
       "      <td>6</td>\n",
       "      <td>1169</td>\n",
       "      <td>...</td>\n",
       "      <td>0</td>\n",
       "      <td>0</td>\n",
       "      <td>0</td>\n",
       "      <td>1</td>\n",
       "      <td>1</td>\n",
       "    </tr>\n",
       "    <tr>\n",
       "      <th>1</th>\n",
       "      <td>0</td>\n",
       "      <td>0</td>\n",
       "      <td>22</td>\n",
       "      <td>48</td>\n",
       "      <td>5951</td>\n",
       "      <td>...</td>\n",
       "      <td>0</td>\n",
       "      <td>0</td>\n",
       "      <td>0</td>\n",
       "      <td>0</td>\n",
       "      <td>1</td>\n",
       "    </tr>\n",
       "    <tr>\n",
       "      <th>2</th>\n",
       "      <td>0</td>\n",
       "      <td>1</td>\n",
       "      <td>49</td>\n",
       "      <td>12</td>\n",
       "      <td>2096</td>\n",
       "      <td>...</td>\n",
       "      <td>0</td>\n",
       "      <td>0</td>\n",
       "      <td>0</td>\n",
       "      <td>1</td>\n",
       "      <td>0</td>\n",
       "    </tr>\n",
       "    <tr>\n",
       "      <th>3</th>\n",
       "      <td>0</td>\n",
       "      <td>1</td>\n",
       "      <td>45</td>\n",
       "      <td>42</td>\n",
       "      <td>7882</td>\n",
       "      <td>...</td>\n",
       "      <td>0</td>\n",
       "      <td>0</td>\n",
       "      <td>0</td>\n",
       "      <td>1</td>\n",
       "      <td>1</td>\n",
       "    </tr>\n",
       "    <tr>\n",
       "      <th>4</th>\n",
       "      <td>0</td>\n",
       "      <td>1</td>\n",
       "      <td>53</td>\n",
       "      <td>24</td>\n",
       "      <td>4870</td>\n",
       "      <td>...</td>\n",
       "      <td>0</td>\n",
       "      <td>0</td>\n",
       "      <td>0</td>\n",
       "      <td>0</td>\n",
       "      <td>1</td>\n",
       "    </tr>\n",
       "  </tbody>\n",
       "</table>\n",
       "<p>5 rows × 26 columns</p>\n",
       "</div>"
      ],
      "text/plain": [
       "   ForeignWorker  Single  Age  LoanDuration  LoanAmount  ...  RentsHouse  \\\n",
       "0              0       1   67             6        1169  ...           0   \n",
       "1              0       0   22            48        5951  ...           0   \n",
       "2              0       1   49            12        2096  ...           0   \n",
       "3              0       1   45            42        7882  ...           0   \n",
       "4              0       1   53            24        4870  ...           0   \n",
       "\n",
       "   Unemployed  YearsAtCurrentJob_lt_1  YearsAtCurrentJob_geq_4  \\\n",
       "0           0                       0                        1   \n",
       "1           0                       0                        0   \n",
       "2           0                       0                        1   \n",
       "3           0                       0                        1   \n",
       "4           0                       0                        0   \n",
       "\n",
       "   JobClassIsSkilled  \n",
       "0                  1  \n",
       "1                  1  \n",
       "2                  0  \n",
       "3                  1  \n",
       "4                  1  \n",
       "\n",
       "[5 rows x 26 columns]"
      ]
     },
     "execution_count": 3,
     "metadata": {},
     "output_type": "execute_result"
    }
   ],
   "source": [
    "print(X.shape)\n",
    "print(X.dtypes)\n",
    "\n",
    "X.head()"
   ]
  },
  {
   "cell_type": "code",
   "execution_count": 4,
   "metadata": {},
   "outputs": [
    {
     "name": "stdout",
     "output_type": "stream",
     "text": [
      "(500, 26)\n",
      "(500, 26)\n",
      "(233, 26)\n",
      "188\n"
     ]
    }
   ],
   "source": [
    "## split datasets for audit\n",
    "X_clf, X_audit_holdout, y_clf, y_audit_holdout = train_test_split(X, y, test_size=0.5)\n",
    "\n",
    "X_clf_biased = X_clf.loc[lambda df: df['Age'] >= 35] # .drop('age', axis=1)\n",
    "y_clf_biased = y_clf.loc[X_clf_biased.index]\n",
    "\n",
    "print(X_clf.shape)\n",
    "print(X_audit_holdout.shape)\n",
    "print(X_clf_biased.shape)\n",
    "\n",
    "print(sum(y_audit_holdout))\n",
    "\n",
    "## train\n",
    "clf_full = (\n",
    "    LogisticRegressionCV(max_iter=1000, Cs=100, cv=5)\n",
    "        .fit(X_clf, # .drop('age', axis=1),\n",
    "             y_clf)\n",
    ")\n",
    "clf_age_limited = (\n",
    "    LogisticRegressionCV(max_iter=1000, Cs=100, cv=5)\n",
    "        .fit(X_clf_biased, y_clf_biased)\n",
    ")"
   ]
  },
  {
   "cell_type": "code",
   "execution_count": 21,
   "metadata": {},
   "outputs": [
    {
     "name": "stdout",
     "output_type": "stream",
     "text": [
      "(1000, 26)\n",
      "(500, 26)\n",
      "(221, 26)\n",
      "(500, 26)\n",
      "(1000, 26)\n",
      "(900, 26)\n",
      "(404, 26)\n",
      "(100, 26)\n"
     ]
    }
   ],
   "source": [
    "# # get dataset sizes\n",
    "\n",
    "# X_clf, X_audit_holdout, y_clf, y_audit_holdout = train_test_split(X, y, test_size=0.5)\n",
    "\n",
    "# X_clf_biased = X_clf.loc[lambda df: df['Age'] >= 35] # .drop('age', axis=1)\n",
    "# y_clf_biased = y_clf.loc[X_clf_biased.index]\n",
    "\n",
    "# print(X.shape)\n",
    "# print(X_clf.shape)\n",
    "# print(X_clf_biased.shape)\n",
    "# print(X_audit_holdout.shape)\n",
    "\n",
    "# X_clf, X_audit_holdout, y_clf, y_audit_holdout = train_test_split(X, y, test_size=0.1)\n",
    "\n",
    "# X_clf_biased = X_clf.loc[lambda df: df['Age'] >= 35] # .drop('age', axis=1)\n",
    "# y_clf_biased = y_clf.loc[X_clf_biased.index]\n",
    "\n",
    "# print(X.shape)\n",
    "# print(X_clf.shape)\n",
    "# print(X_clf_biased.shape)\n",
    "# print(X_audit_holdout.shape)"
   ]
  },
  {
   "cell_type": "code",
   "execution_count": 5,
   "metadata": {},
   "outputs": [
    {
     "name": "stdout",
     "output_type": "stream",
     "text": [
      "(500, 26)\n",
      "(500, 26)\n",
      "(227, 26)\n"
     ]
    }
   ],
   "source": [
    "## split datasets for audit\n",
    "X_clf, X_audit_holdout, y_clf, y_audit_holdout = train_test_split(X, y, test_size=0.5)\n",
    "\n",
    "X_clf_biased = X_clf.loc[lambda df: df['Age'] >= 35] # .drop('age', axis=1)\n",
    "y_clf_biased = y_clf.loc[X_clf_biased.index]\n",
    "\n",
    "print(X_clf.shape)\n",
    "print(X_audit_holdout.shape)\n",
    "print(X_clf_biased.shape)\n"
   ]
  },
  {
   "cell_type": "markdown",
   "metadata": {},
   "source": [
    "## run predictions and store in a unified dataframe"
   ]
  },
  {
   "cell_type": "code",
   "execution_count": 6,
   "metadata": {},
   "outputs": [
    {
     "name": "stdout",
     "output_type": "stream",
     "text": [
      "(26,)\n"
     ]
    }
   ],
   "source": [
    "coefficients = {}\n",
    "intercept = {}\n",
    "clfs = {'full': clf_full, 'downsampled': clf_age_limited}\n",
    "for d in ['downsampled', 'full']:\n",
    "    coefficients[d] = clfs[d].coef_[0]\n",
    "    intercept[d] = clfs[d].intercept_[0]\n",
    "    \n",
    "print(coefficients['full'].shape)"
   ]
  },
  {
   "cell_type": "markdown",
   "metadata": {},
   "source": [
    "## run audit"
   ]
  },
  {
   "cell_type": "code",
   "execution_count": 7,
   "metadata": {},
   "outputs": [],
   "source": [
    "# actionset\n",
    "gender_weight = data_df.assign(c = 1).groupby('Gender')['c'].transform(lambda s: s * 1. / len(s))\n",
    "X_gender_balanced = X.sample(n = len(X)*3, replace=True, weights=gender_weight)\n",
    "action_set = ActionSet(X = X_gender_balanced)\n",
    "action_set['Age'].mutable = False\n",
    "# action_set['isMale'].mutable = False\n",
    "action_set['Single'].mutable = False\n",
    "action_set['JobClassIsSkilled'].mutable = False\n",
    "action_set['ForeignWorker'].mutable = False\n",
    "action_set['OwnsHouse'].mutable = False\n",
    "action_set['RentsHouse'].mutable = False\n",
    "action_set['CriticalAccountOrLoansElsewhere'].step_direction = -1\n",
    "action_set['CheckingAccountBalance_geq_0'].step_direction = 1"
   ]
  },
  {
   "cell_type": "code",
   "execution_count": 8,
   "metadata": {},
   "outputs": [
    {
     "data": {
      "application/vnd.jupyter.widget-view+json": {
       "model_id": "f6f7d61fa095416aab66816ad499cea5",
       "version_major": 2,
       "version_minor": 0
      },
      "text/plain": [
       "HBox(children=(FloatProgress(value=0.0, max=500.0), HTML(value='')))"
      ]
     },
     "metadata": {},
     "output_type": "display_data"
    },
    {
     "name": "stdout",
     "output_type": "stream",
     "text": [
      "\n"
     ]
    },
    {
     "data": {
      "application/vnd.jupyter.widget-view+json": {
       "model_id": "ea600d483c204666837f609043b228d8",
       "version_major": 2,
       "version_minor": 0
      },
      "text/plain": [
       "HBox(children=(FloatProgress(value=0.0, max=500.0), HTML(value='')))"
      ]
     },
     "metadata": {},
     "output_type": "display_data"
    },
    {
     "name": "stdout",
     "output_type": "stream",
     "text": [
      "\n"
     ]
    }
   ],
   "source": [
    "# utilization bounded\n",
    "# RealEstate should be positive\n",
    "# numtimes90 days > 0\n",
    "# monthly income >0\n",
    "# debt\n",
    "\n",
    "p = 0.98\n",
    "\n",
    "# run audit\n",
    "audit_results = {}\n",
    "for dataset in ['full', 'downsampled']:\n",
    "    action_set.align(coefficients=coefficients[dataset])\n",
    "    \n",
    "    # audit\n",
    "    auditor = RecourseAuditor(\n",
    "        action_set,\n",
    "        coefficients = coefficients[dataset],\n",
    "        intercept = intercept[dataset] - (np.log(p / (1. - p))),\n",
    "    )\n",
    "    audit_results[dataset] = auditor.audit(X = X_audit_holdout)"
   ]
  },
  {
   "cell_type": "markdown",
   "metadata": {},
   "source": [
    "## resolve some problem with processed data max total cost"
   ]
  },
  {
   "cell_type": "code",
   "execution_count": 15,
   "metadata": {},
   "outputs": [],
   "source": [
    "processed_data = {}\n",
    "for training_run in ['full', 'downsampled']:\n",
    "    processed_data[training_run] = (audit_results[training_run]\n",
    "                .merge(X_audit_holdout['Age'], right_index=True, left_index=True)\n",
    "                .merge(y_audit_holdout.to_frame('y_true'), right_index=True, left_index=True)\n",
    "                .replace([np.inf, -np.inf], np.nan)\n",
    "                .assign(age_cut=lambda df: pd.cut(df['Age'], np.arange(25, 80, 5)))\n",
    "                .dropna()\n",
    "               )"
   ]
  },
  {
   "cell_type": "code",
   "execution_count": 16,
   "metadata": {},
   "outputs": [
    {
     "name": "stdout",
     "output_type": "stream",
     "text": [
      "(0, 5)\n",
      "(0, 5)\n",
      "(0, 5)\n",
      "(218, 5)\n",
      "0.9255439307905529\n",
      "nan\n",
      "963    0.506790\n",
      "262    0.408443\n",
      "803    0.475948\n",
      "663    0.859327\n",
      "479    0.358534\n",
      "         ...   \n",
      "171    0.859327\n",
      "365    0.218001\n",
      "590    0.619999\n",
      "581    0.383333\n",
      "636    0.859327\n",
      "Name: cost, Length: 280, dtype: float64\n",
      "Series([], Name: cost, dtype: float64)\n"
     ]
    }
   ],
   "source": [
    "data = processed_data['downsampled']\n",
    "for y_true in [0, 1]:\n",
    "    print(data.loc[lambda df: df['y_true'] == y_true].shape)\n",
    "    \n",
    "data = processed_data['full']\n",
    "for y_true in [0, 1]:\n",
    "    print(data.loc[lambda df: df['y_true'] == y_true].shape)\n",
    "    \n",
    "print(processed_data['full']['cost'].max())\n",
    "print(processed_data['downsampled']['cost'].max())\n",
    "max_total_cost = max(processed_data['full']['cost'].max(), processed_data['downsampled']['cost'].max())\n",
    "max_total_cost\n",
    "\n",
    "print(processed_data['full']['cost'])\n",
    "\n",
    "print(processed_data['downsampled']['cost'])"
   ]
  },
  {
   "cell_type": "markdown",
   "metadata": {},
   "source": [
    "## now graph your results"
   ]
  },
  {
   "cell_type": "code",
   "execution_count": 17,
   "metadata": {},
   "outputs": [
    {
     "name": "stdout",
     "output_type": "stream",
     "text": [
      "0.9255439307905529\n",
      "nan\n"
     ]
    },
    {
     "data": {
      "image/png": "[encoded data removed]",
      "text/plain": [
       "<Figure size 288x288 with 1 Axes>"
      ]
     },
     "metadata": {},
     "output_type": "display_data"
    },
    {
     "data": {
      "image/png": "[encoded data removed]",
      "text/plain": [
       "<Figure size 288x288 with 1 Axes>"
      ]
     },
     "metadata": {},
     "output_type": "display_data"
    },
    {
     "data": {
      "image/png": "[encoded data removed]",
      "text/plain": [
       "<Figure size 288x288 with 1 Axes>"
      ]
     },
     "metadata": {},
     "output_type": "display_data"
    },
    {
     "data": {
      "image/png": "[encoded data removed]",
      "text/plain": [
       "<Figure size 288x288 with 1 Axes>"
      ]
     },
     "metadata": {},
     "output_type": "display_data"
    }
   ],
   "source": [
    "\n",
    "## plot\n",
    "# max_total_cost = combined['cost'].max()\n",
    "import math\n",
    "if math.isnan(max(processed_data['full']['cost'].max(), processed_data['full']['cost'].max())):\n",
    "    if not math.isnan(processed_data['full']['cost'].max()):\n",
    "        max_total_cost = processed_data['full']['cost'].max()\n",
    "    else:\n",
    "        max_total_cost = processed_data['downsampled']['cost'].max()\n",
    "        \n",
    "print(processed_data['full']['cost'].max())\n",
    "print(processed_data['downsampled']['cost'].max())\n",
    "\n",
    "if math.isnan(max_total_cost):\n",
    "    max_total_cost = 1\n",
    "# assert(not math.isnan(max_total_cost))\n",
    "\n",
    "plt.rc(\"font\", size=20)\n",
    "for y_true in [0, 1]:\n",
    "    for training_run, label in [('downsampled', 'Age-limited Dataset'), ('full', 'Full Dataset')]:\n",
    "        data = processed_data[training_run]       \n",
    "        plt.figure(figsize=(4, 4))\n",
    "        ax = sns.violinplot(\n",
    "                x='age_cut', y='cost',\n",
    "                data=data.loc[lambda df: df['y_true'] == y_true],\n",
    "                linewidth = 0.5, cut=0,\n",
    "                scale='width', color=\"gold\",  inner='quartile'\n",
    "                )\n",
    "        \n",
    "        ## formatting\n",
    "        plt.ylim((0, 1))\n",
    "        plt.ylabel(\"Cost of Recourse\")\n",
    "        plt.xlabel(\"Age\")\n",
    "        plt.title('Y-True: %s, %s' % (y_true, label))\n",
    "        ax.set_ylim((0, 1))\n",
    "#         ax.set_xticks(np.arange(0, 14, 2)- 1,)\n",
    "        ax.set_xticklabels( np.arange(25, 80, 5))\n",
    "        ax.spines['top'].set_visible(False)\n",
    "        ax.spines['right'].set_visible(False)\n",
    "        for l in ax.lines:\n",
    "            l.set_linewidth(2.)\n",
    "            l.set_linestyle('-')\n",
    "            l.set_solid_capstyle('butt')\n",
    "        ax.set_facecolor(\"white\")\n",
    "        plt.show()"
   ]
  },
  {
   "cell_type": "code",
   "execution_count": 12,
   "metadata": {},
   "outputs": [
    {
     "data": {
      "text/plain": [
       "300"
      ]
     },
     "execution_count": 12,
     "metadata": {},
     "output_type": "execute_result"
    }
   ],
   "source": [
    "## let's look at the proportion of negatives in the dataset\n",
    "sum(y==-1)"
   ]
  },
  {
   "cell_type": "code",
   "execution_count": 13,
   "metadata": {},
   "outputs": [
    {
     "data": {
      "text/plain": [
       "149"
      ]
     },
     "execution_count": 13,
     "metadata": {},
     "output_type": "execute_result"
    }
   ],
   "source": [
    "sum(y_clf==-1)"
   ]
  },
  {
   "cell_type": "code",
   "execution_count": 14,
   "metadata": {},
   "outputs": [
    {
     "data": {
      "text/plain": [
       "151"
      ]
     },
     "execution_count": 14,
     "metadata": {},
     "output_type": "execute_result"
    }
   ],
   "source": [
    "sum(y_audit_holdout==-1)"
   ]
  },
  {
   "cell_type": "markdown",
   "metadata": {},
   "source": [
    "## accuracy"
   ]
  },
  {
   "cell_type": "code",
   "execution_count": 18,
   "metadata": {},
   "outputs": [
    {
     "name": "stdout",
     "output_type": "stream",
     "text": [
      "\n",
      " TESTING ACCURACIES: \n",
      "\n",
      "total number of data points in testing set: \n",
      "(500, 26)\n",
      "testing accuracy for baseline: \n",
      "0.32\n",
      "testing accuracy for biased: \n",
      "0.348\n",
      "\n",
      " TRAINING ACCURACIES: \n",
      "\n",
      "BASELINE\n",
      "total number of data points in training set: \n",
      "(500, 26)\n",
      "total number of correct predictions in training set: \n",
      "(170, 2)\n",
      "training accuracy for baseline: \n",
      "0.34\n",
      "\n",
      "BIASED\n",
      "total number of correct predictions in training set: \n",
      "(184, 2)\n",
      "training accuracy for biased: \n",
      "0.368\n"
     ]
    }
   ],
   "source": [
    "print(\"\\n TESTING ACCURACIES: \\n\")\n",
    "print(\"total number of data points in testing set: \")\n",
    "print(X_audit_holdout.shape)\n",
    "predictions_baseline_test = pd.DataFrame({'y_pred': clf_full.predict(X_audit_holdout)})\n",
    "predictions_baseline_test = predictions_baseline_test.merge(y_audit_holdout.to_frame('y_true'), right_index=True, left_index=True)\n",
    "# print(predictions_baseline_test.loc[lambda df: df['y_true']==df['y_pred']].shape)\n",
    "print(\"testing accuracy for baseline: \")\n",
    "print(predictions_baseline_test.loc[lambda df: df['y_true']==df['y_pred']].shape[0]/X_audit_holdout.shape[0])\n",
    "\n",
    "predictions_biased_test = pd.DataFrame({'y_pred': clf_age_limited.predict(X_audit_holdout)})\n",
    "predictions_biased_test = predictions_biased_test.merge(y_audit_holdout.to_frame('y_true'), right_index=True, left_index=True)\n",
    "print(\"testing accuracy for biased: \")\n",
    "print(predictions_biased_test.loc[lambda df: df['y_true']==df['y_pred']].shape[0]/X_audit_holdout.shape[0])\n",
    "\n",
    "\n",
    "print(\"\\n TRAINING ACCURACIES: \\n\")\n",
    "print(\"BASELINE\")\n",
    "print(\"total number of data points in training set: \")\n",
    "print(X_clf.shape)\n",
    "predictions_baseline = pd.DataFrame({'y_pred': clf_full.predict(X_clf)})\n",
    "predictions_baseline = predictions_baseline.merge(y_clf.to_frame('y_true'), right_index=True, left_index=True)\n",
    "print(\"total number of correct predictions in training set: \")\n",
    "print(predictions_baseline.loc[lambda df: df['y_true']==df['y_pred']].shape)\n",
    "print(\"training accuracy for baseline: \")\n",
    "print(predictions_baseline.loc[lambda df: df['y_true']==df['y_pred']].shape[0]/X_clf.shape[0])\n",
    "\n",
    "print(\"\\nBIASED\")\n",
    "predictions_biased = pd.DataFrame({'y_pred': clf_age_limited.predict(X_clf)})\n",
    "predictions_biased = predictions_biased.merge(y_clf.to_frame('y_true'), right_index=True, left_index=True)\n",
    "print(\"total number of correct predictions in training set: \")\n",
    "print(predictions_biased.loc[lambda df: df['y_true']==df['y_pred']].shape)\n",
    "print(\"training accuracy for biased: \")\n",
    "print(predictions_biased.loc[lambda df: df['y_true']==df['y_pred']].shape[0]/X_clf.shape[0])\n"
   ]
  },
  {
   "cell_type": "code",
   "execution_count": null,
   "metadata": {},
   "outputs": [],
   "source": []
  },
  {
   "cell_type": "code",
   "execution_count": null,
   "metadata": {},
   "outputs": [],
   "source": []
  }
 ],
 "metadata": {
  "kernelspec": {
   "display_name": "Python 3",
   "language": "python",
   "name": "python3"
  },
  "language_info": {
   "codemirror_mode": {
    "name": "ipython",
    "version": 3
   },
   "file_extension": ".py",
   "mimetype": "text/x-python",
   "name": "python",
   "nbconvert_exporter": "python",
   "pygments_lexer": "ipython3",
   "version": "3.7.4"
  }
 },
 "nbformat": 4,
 "nbformat_minor": 4
}
